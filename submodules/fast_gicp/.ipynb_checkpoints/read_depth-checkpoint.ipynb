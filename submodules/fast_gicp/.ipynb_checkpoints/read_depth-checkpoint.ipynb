{
 "cells": [
  {
   "cell_type": "code",
   "execution_count": 108,
   "id": "3298cb14",
   "metadata": {},
   "outputs": [],
   "source": [
    "import numpy as np\n",
    "import open3d as o3d\n",
    "import cv2\n",
    "import PIL\n",
    "import os\n",
    "import copy"
   ]
  },
  {
   "cell_type": "code",
   "execution_count": 28,
   "id": "516e7037",
   "metadata": {},
   "outputs": [],
   "source": [
    "def draw_registration_result(source, target, transformation=np.eye(4)):\n",
    "    source_temp= copy.deepcopy(source)\n",
    "    target_temp = copy.deepcopy(target)\n",
    "    source_temp.paint_uniform_color([1, 0.706, 0])\n",
    "    target_temp.paint_uniform_color([0, 0.651, 0.929])\n",
    "    source_temp.transform(transformation)\n",
    "    o3d.visualization.draw_geometries([source_temp, target_temp],\n",
    "                                     )"
   ]
  },
  {
   "cell_type": "code",
   "execution_count": 121,
   "id": "1ded300c",
   "metadata": {},
   "outputs": [],
   "source": [
    "pcd = o3d.io.read_point_cloud('cc79d241-e/point_cloud/iteration_30000/point_cloud.ply')\n",
    "pcd1 = o3d.io.read_point_cloud('e1130bd4-1/point_cloud/iteration_30000/point_cloud.ply')\n",
    "a = o3d.geometry.PointCloud()\n",
    "a.points = o3d.utility.Vector3dVector(np.asarray(pcd.points))\n",
    "b = o3d.geometry.PointCloud()\n",
    "b.points = o3d.utility.Vector3dVector(np.asarray(pcd1.points))\n",
    "draw_registration_result(a,b)\n"
   ]
  },
  {
   "cell_type": "code",
   "execution_count": 124,
   "id": "2f38c188",
   "metadata": {},
   "outputs": [
    {
     "name": "stdout",
     "output_type": "stream",
     "text": [
      "947998\n"
     ]
    }
   ],
   "source": [
    "print(len(np.asarray(pcd1.points)))"
   ]
  },
  {
   "cell_type": "code",
   "execution_count": null,
   "id": "8e9db709",
   "metadata": {},
   "outputs": [],
   "source": []
  },
  {
   "cell_type": "code",
   "execution_count": 44,
   "id": "9e03d3d3",
   "metadata": {},
   "outputs": [],
   "source": [
    "points = np.asarray(a.points)"
   ]
  },
  {
   "cell_type": "code",
   "execution_count": 45,
   "id": "59cd0db2",
   "metadata": {},
   "outputs": [
    {
     "name": "stdout",
     "output_type": "stream",
     "text": [
      "(59682, 3)\n"
     ]
    }
   ],
   "source": [
    "print(points.shape)"
   ]
  },
  {
   "cell_type": "code",
   "execution_count": 46,
   "id": "91ba8df2",
   "metadata": {},
   "outputs": [
    {
     "name": "stdout",
     "output_type": "stream",
     "text": [
      "96.93785858154297 -112.30762481689453\n",
      "118.50968933105469 -67.79100799560547\n",
      "143.7660675048828 -92.39513397216797\n"
     ]
    }
   ],
   "source": [
    "print(np.max(points[...,0]), np.min(points[...,0]))\n",
    "print(np.max(points[...,1]), np.min(points[...,1]))\n",
    "print(np.max(points[...,2]), np.min(points[...,2]))"
   ]
  },
  {
   "cell_type": "code",
   "execution_count": 67,
   "id": "a5d03e9a",
   "metadata": {},
   "outputs": [],
   "source": [
    "a = cv2.imread('db/Playroom_Reconstruction_Inputs_Outputs/colmap/stereo/depth_maps/DSC05572.jpg.geometric.bin', cv2.IMREAD_UNCHANGED)"
   ]
  },
  {
   "cell_type": "code",
   "execution_count": 16,
   "id": "58002a09",
   "metadata": {},
   "outputs": [
    {
     "name": "stdout",
     "output_type": "stream",
     "text": [
      "None\n"
     ]
    }
   ],
   "source": [
    "print(a)"
   ]
  },
  {
   "cell_type": "code",
   "execution_count": 109,
   "id": "38ea7f9a",
   "metadata": {},
   "outputs": [],
   "source": [
    "def read_array(path):\n",
    "    with open(path, \"rb\") as fid:\n",
    "        width, height, channels = np.genfromtxt(\n",
    "            fid, delimiter=\"&\", max_rows=1, usecols=(0, 1, 2), dtype=int\n",
    "        )\n",
    "        fid.seek(0)\n",
    "        num_delimiter = 0\n",
    "        byte = fid.read(1)\n",
    "        while True:\n",
    "            if byte == b\"&\":\n",
    "                num_delimiter += 1\n",
    "                if num_delimiter >= 3:\n",
    "                    break\n",
    "            byte = fid.read(1)\n",
    "        array = np.fromfile(fid, np.float32)\n",
    "    array = array.reshape((width, height, 1), order=\"F\")\n",
    "    array = array.reshape((width, height, 1))\n",
    "    return np.transpose(array, (1, 0, 2)).squeeze()"
   ]
  },
  {
   "cell_type": "code",
   "execution_count": 110,
   "id": "897abe38",
   "metadata": {},
   "outputs": [],
   "source": [
    "a = read_array('DSC05572.bin')"
   ]
  },
  {
   "cell_type": "code",
   "execution_count": 125,
   "id": "8bb90213",
   "metadata": {},
   "outputs": [
    {
     "name": "stdout",
     "output_type": "stream",
     "text": [
      "1051648\n"
     ]
    }
   ],
   "source": [
    "print(832*1264)"
   ]
  },
  {
   "cell_type": "code",
   "execution_count": 111,
   "id": "7a5e3330",
   "metadata": {},
   "outputs": [
    {
     "name": "stdout",
     "output_type": "stream",
     "text": [
      "(832, 1264)\n",
      "9.442118 0.0\n"
     ]
    }
   ],
   "source": [
    "print(a.shape)\n",
    "print(np.max(a), np.min(a))"
   ]
  },
  {
   "cell_type": "code",
   "execution_count": 112,
   "id": "cf581206",
   "metadata": {
    "scrolled": true
   },
   "outputs": [
    {
     "data": {
      "text/plain": [
       "(832, 1264)"
      ]
     },
     "execution_count": 112,
     "metadata": {},
     "output_type": "execute_result"
    }
   ],
   "source": [
    "a.shape"
   ]
  },
  {
   "cell_type": "code",
   "execution_count": 113,
   "id": "7c7d1fd1",
   "metadata": {},
   "outputs": [],
   "source": [
    "a = (a/np.max(a) * 255).astype(np.uint8)"
   ]
  },
  {
   "cell_type": "code",
   "execution_count": 114,
   "id": "b4425b6a",
   "metadata": {},
   "outputs": [],
   "source": [
    "a = PIL.Image.fromarray(a)"
   ]
  },
  {
   "cell_type": "code",
   "execution_count": 116,
   "id": "d5fa754f",
   "metadata": {},
   "outputs": [],
   "source": [
    "a.show()"
   ]
  },
  {
   "cell_type": "code",
   "execution_count": 117,
   "id": "785225e3",
   "metadata": {},
   "outputs": [
    {
     "data": {
      "text/plain": [
       "2"
      ]
     },
     "execution_count": 117,
     "metadata": {},
     "output_type": "execute_result"
    }
   ],
   "source": [
    "len(a.size)"
   ]
  },
  {
   "cell_type": "code",
   "execution_count": 19,
   "id": "48c113fe",
   "metadata": {},
   "outputs": [
    {
     "data": {
      "text/plain": [
       "'a.jpg'"
      ]
     },
     "execution_count": 19,
     "metadata": {},
     "output_type": "execute_result"
    }
   ],
   "source": [
    "os.path.basename('/home/yonsei/a.jpg')"
   ]
  },
  {
   "cell_type": "code",
   "execution_count": 86,
   "id": "632cf697",
   "metadata": {},
   "outputs": [],
   "source": [
    "focalX = 1264\n",
    "focalY = 832\n",
    "centerX = 632\n",
    "centerY = 416\n",
    "scalingFactor = 1.0\n",
    "\n",
    "def readDepth(path):\n",
    "\tmin_depth_percentile = 5\n",
    "\tmax_depth_percentile = 95\n",
    "\n",
    "\twith open(path, \"rb\") as fid:\n",
    "\t\twidth, height, channels = np.genfromtxt(fid, delimiter=\"&\", max_rows=1, usecols=(0, 1, 2), dtype=int)\n",
    "\t\tfid.seek(0)\n",
    "\t\tnum_delimiter = 0\n",
    "\t\tbyte = fid.read(1)\n",
    "\t\twhile True:\n",
    "\t\t\tif byte == b\"&\":\n",
    "\t\t\t\tnum_delimiter += 1\n",
    "\t\t\t\tif num_delimiter >= 3:\n",
    "\t\t\t\t\tbreak\n",
    "\t\t\tbyte = fid.read(1)\n",
    "\t\tarray = np.fromfile(fid, np.float32)\n",
    "\tarray = array.reshape((width, height, channels), order=\"F\")\n",
    "\n",
    "\tdepth_map = np.transpose(array, (1, 0, 2)).squeeze()\n",
    "\n",
    "\tmin_depth, max_depth = np.percentile(depth_map, [min_depth_percentile, max_depth_percentile])\n",
    "\tprint(min_depth, max_depth)\n",
    "\n",
    "\tdepth_map[depth_map < min_depth] = min_depth\n",
    "\tdepth_map[depth_map > max_depth] = max_depth\n",
    "\n",
    "\treturn depth_map\n",
    "\n",
    "def getPointCloud(rgbFile, depthFile):\n",
    "\tthresh = 15.0\n",
    "\n",
    "\tdepth = readDepth(depthFile)\n",
    "\trgb = PIL.Image.open(rgbFile)\n",
    "\tpoints = []\n",
    "\tcolors = []\n",
    "\tsrcPxs = []\n",
    "\tprint(depth.shape)\n",
    "\tfor v in range(depth.shape[0]):\n",
    "\t\tfor u in range(depth.shape[1]):\n",
    "\t\t\t\n",
    "\t\t\tZ = depth[v, u] / scalingFactor\n",
    "\t\t\tif Z==0: continue\n",
    "\t\t\tif (Z > thresh): continue\n",
    "\n",
    "\t\t\tX = (u - centerX) * Z / focalX\n",
    "\t\t\tY = (v - centerY) * Z / focalY\n",
    "\t\t\t\n",
    "\t\t\tsrcPxs.append((u, v))\n",
    "\t\t\tpoints.append((X, Y, Z))\n",
    "\t\t\tcolors.append(rgb.getpixel((u, v)))\n",
    "\n",
    "\tsrcPxs = np.asarray(srcPxs).T\n",
    "\tpoints = np.asarray(points)\n",
    "\tcolors = np.asarray(colors)\n",
    "\t\n",
    "\tpcd = o3d.geometry.PointCloud()\n",
    "\tpcd.points = o3d.utility.Vector3dVector(points)\n",
    "\tpcd.colors = o3d.utility.Vector3dVector(colors/255)\n",
    "\t\n",
    "\treturn pcd, srcPxs"
   ]
  },
  {
   "cell_type": "code",
   "execution_count": 98,
   "id": "de3ce60d",
   "metadata": {},
   "outputs": [
    {
     "name": "stdout",
     "output_type": "stream",
     "text": [
      "2.5367496490478514 8.600763320922852\n",
      "(832, 1264)\n"
     ]
    }
   ],
   "source": [
    "pcd, _ = getPointCloud('DSC05573.jpg', 'DSC05573.bin')"
   ]
  },
  {
   "cell_type": "code",
   "execution_count": 99,
   "id": "82ce7e09",
   "metadata": {},
   "outputs": [],
   "source": [
    "o3d.visualization.draw_geometries([pcd])"
   ]
  },
  {
   "cell_type": "code",
   "execution_count": null,
   "id": "7c764b07",
   "metadata": {},
   "outputs": [],
   "source": []
  }
 ],
 "metadata": {
  "kernelspec": {
   "display_name": "Python 3 (ipykernel)",
   "language": "python",
   "name": "python3"
  },
  "language_info": {
   "codemirror_mode": {
    "name": "ipython",
    "version": 3
   },
   "file_extension": ".py",
   "mimetype": "text/x-python",
   "name": "python",
   "nbconvert_exporter": "python",
   "pygments_lexer": "ipython3",
   "version": "3.8.18"
  }
 },
 "nbformat": 4,
 "nbformat_minor": 5
}
